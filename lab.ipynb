{
 "cells": [
  {
   "cell_type": "code",
   "execution_count": 2,
   "metadata": {},
   "outputs": [],
   "source": [
    "# importando as bibliotecas\n",
    "import pandas as pd\n",
    "import streamlit as st\n",
    "import plotly.express as px\n",
    "import numpy as np\n"
   ]
  },
  {
   "cell_type": "code",
   "execution_count": 33,
   "metadata": {},
   "outputs": [
    {
     "data": {
      "text/plain": [
       "array([2013, 2014, 2015, 2016, 2017, 2018, 2019, 2020, 2021, 2022, 2023])"
      ]
     },
     "execution_count": 33,
     "metadata": {},
     "output_type": "execute_result"
    }
   ],
   "source": [
    "# nome dos arquivos para concatenar\n",
    "base_url = \"dados_publicos_anac_{}.csv\"\n",
    "\n",
    "# lista vazia para armazenar os arquivos\n",
    "dfs = []\n",
    "\n",
    "# metodo for para pegar cada arquivo e colocar na lista\n",
    "for year in range(2013, 2024):\n",
    "    # colocar o ano no final do nome do arquivo\n",
    "    url = base_url.format(year)\n",
    "    # ler cada arquivo no fomato csv\n",
    "    df=pd.read_csv(url, sep=\";\")\n",
    "    # colocar cada arquivo na lista vazia\n",
    "    dfs.append(df)\n",
    "# concatenar todos os arquivos em um dataframe único\n",
    "dfs = pd.concat(dfs, ignore_index=True)\n",
    "\n",
    "\n",
    "dfs[\"ANO\"].unique()\n",
    "    "
   ]
  },
  {
   "cell_type": "code",
   "execution_count": null,
   "metadata": {},
   "outputs": [],
   "source": [
    "base_url1 = \"dados_publicos_anac_2023.csv\"\n",
    "base_url  = \"dados_publicos_anac_{}.csv\"\n",
    "\n",
    "url = []\n",
    "\n",
    "for year in range(2013, 2024):\n",
    "    url = base_url.format(year)\n",
    "    df = pd.read_csv(url, sep=\";\")\n",
    "    dfs.append(df)\n",
    "dfs=pd.concat(dfs)\n"
   ]
  }
 ],
 "metadata": {
  "kernelspec": {
   "display_name": "Python 3",
   "language": "python",
   "name": "python3"
  },
  "language_info": {
   "codemirror_mode": {
    "name": "ipython",
    "version": 3
   },
   "file_extension": ".py",
   "mimetype": "text/x-python",
   "name": "python",
   "nbconvert_exporter": "python",
   "pygments_lexer": "ipython3",
   "version": "3.12.1"
  }
 },
 "nbformat": 4,
 "nbformat_minor": 2
}
